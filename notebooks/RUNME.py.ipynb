{
 "cells": [
  {
   "cell_type": "markdown",
   "metadata": {},
   "source": [
    "Demo Notebook (Please clone the repo in your local env first)"
   ]
  },
  {
   "cell_type": "code",
   "execution_count": null,
   "metadata": {
    "vscode": {
     "languageId": "plaintext"
    }
   },
   "outputs": [],
   "source": "%pip install -r /Workspace/Users/databricks_code_validator/requirements.txt\n%pip install -e /Workspace/Users/databricks_code_validator\ndbutils.library.restartPython()"
  },
  {
   "cell_type": "code",
   "execution_count": null,
   "metadata": {
    "vscode": {
     "languageId": "plaintext"
    }
   },
   "outputs": [],
   "source": [
    "import os\n",
    "os.environ['LLM_PROVIDER_TYPE'] = 'databricks'\n",
    "os.environ['LLM_API_KEY'] = dbutils.secrets.get(scope=\"your_scope\", key=\"your_llm_api_key\")\n",
    "os.environ['LLM_ENDPOINT_URL'] = 'https://your-workspace.cloud.databricks.com/serving-endpoints/your-endpoint/invocations'\n",
    "os.environ['LLM_MODEL_NAME'] = 'your-model-name'"
   ]
  },
  {
   "cell_type": "code",
   "execution_count": null,
   "metadata": {
    "vscode": {
     "languageId": "plaintext"
    }
   },
   "outputs": [],
   "source": "!databricks-code-validator create-config --output /Workspace/Users/databricks_code_validator/validation_rules.yaml"
  },
  {
   "cell_type": "code",
   "execution_count": null,
   "metadata": {
    "vscode": {
     "languageId": "plaintext"
    }
   },
   "outputs": [],
   "source": "!databricks-code-validator validate --notebook \"/Users/your_sample_notebook\" --output results.json"
  },
  {
   "cell_type": "code",
   "execution_count": null,
   "metadata": {
    "vscode": {
     "languageId": "plaintext"
    }
   },
   "outputs": [],
   "source": [
    "import json\n",
    "with open('results.json', 'r') as f:\n",
    "    results = json.load(f)\n",
    "display(results)"
   ]
  },
  {
   "cell_type": "code",
   "execution_count": null,
   "metadata": {
    "vscode": {
     "languageId": "plaintext"
    }
   },
   "outputs": [],
   "source": "!databricks-code-validator validate --notebook \"/Users/your_sample_notebook\" --save-to-table your_catalog.your_schema.validation_results"
  }
 ],
 "metadata": {
  "language_info": {
   "name": "python"
  }
 },
 "nbformat": 4,
 "nbformat_minor": 2
}